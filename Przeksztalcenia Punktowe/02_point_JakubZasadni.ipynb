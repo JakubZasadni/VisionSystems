{
  "cells": [
    {
      "cell_type": "markdown",
      "metadata": {
        "id": "DeV6FbIbltto"
      },
      "source": [
        "# Przekształcenia punktowe"
      ]
    },
    {
      "cell_type": "markdown",
      "metadata": {
        "id": "bZqang-eltts"
      },
      "source": [
        "W trakcie niniejszego ćwiczenia zapoznamy się z podstawowymi operacjami punktowymi (bezkontekstowymi) przeprowadzanymi na obrazach cyfrowych:\n",
        "- typu LUT (operacja jednoargumentowa),\n",
        "- arytmetycznymi (operacje dwuargumentowe): dodawanie, odejmowanie, mnożenie, dzielenie,\n",
        "- logicznymi (operacje jedno i dwuargumentowe): AND, OR, XOR, NOT."
      ]
    },
    {
      "cell_type": "markdown",
      "metadata": {
        "id": "bADQEWXklttt"
      },
      "source": [
        "Na początku zaimportuj potrzebne biblioteki."
      ]
    },
    {
      "cell_type": "code",
      "execution_count": null,
      "metadata": {
        "id": "bcCrttghlttu"
      },
      "outputs": [],
      "source": [
        "import cv2\n",
        "import numpy as np\n",
        "import matplotlib.pyplot as plt"
      ]
    },
    {
      "cell_type": "markdown",
      "source": [],
      "metadata": {
        "id": "9mdBaN3iuFfw"
      }
    },
    {
      "cell_type": "markdown",
      "metadata": {
        "id": "vtbjXUO5lttv"
      },
      "source": [
        "## Operacja LUT\n",
        "\n",
        "**Operacja LUT** polega na przekształcaniu wartości poszczególnych pikseli obrazu przy użyciu z góry przygotowanych tabel przekodowań (tabel korekcji).\n",
        "\n",
        "W przetwarzaniu obrazów najczęściej wykorzystuje się następujące funkcje:\n",
        "- typu kwadratowa, pierwiastek kwadratowy\n",
        "- typu logarytm, odwrócony logarytm\n",
        "- typu wykładnicza,\n",
        "- inne (np. piłokształtna)."
      ]
    },
    {
      "cell_type": "markdown",
      "metadata": {
        "id": "AsxpOj1wlttw"
      },
      "source": [
        "W tym zadaniu zostały dla Państwa przygotowane tablice przekodowania.\n",
        "Proszę pobrać je z githuba `https://raw.githubusercontent.com/vision-agh/poc_sw/master/02_Point/lut.py` (można użyć znanego polecenia !wget), a następnie zaimportować je poleceniem `import lut`.\n",
        "Od tego momentu można się do nich odwoływać w następujący sposób: `lut.log` itd."
      ]
    },
    {
      "cell_type": "code",
      "execution_count": null,
      "metadata": {
        "id": "IM_qewERlttw"
      },
      "outputs": [],
      "source": [
        "!wget https://raw.githubusercontent.com/vision-agh/poc_sw/master/02_Point/lut.py\n",
        "import lut\n"
      ]
    },
    {
      "cell_type": "markdown",
      "metadata": {
        "id": "jVZsuY3Hlttw"
      },
      "source": [
        "Wyświetl przykładowe przekodowanie wykorzystując funkcję `plt.plot(lut.kwadratowa)`."
      ]
    },
    {
      "cell_type": "code",
      "execution_count": null,
      "metadata": {
        "id": "yECIvZW0lttw"
      },
      "outputs": [],
      "source": [
        "plt.plot(lut.kwadratowa)"
      ]
    },
    {
      "cell_type": "markdown",
      "metadata": {
        "id": "1h3kO9COlttx"
      },
      "source": [
        "Wybierz jeden z obrazów: _lena.bmp_ lub _jet.bmp_ (w razie potrzeby pobierz go z githuba):\n",
        "- https://raw.githubusercontent.com/vision-agh/poc_sw/master/02_Point/lena.bmp\n",
        "- https://raw.githubusercontent.com/vision-agh/poc_sw/master/02_Point/jet.bmp\n",
        "\n",
        "Wczytaj go i wyświetl."
      ]
    },
    {
      "cell_type": "code",
      "execution_count": null,
      "metadata": {
        "id": "0E8l9Mgdlttx"
      },
      "outputs": [],
      "source": [
        "!wget https://raw.githubusercontent.com/vision-agh/poc_sw/master/02_Point/lena.bmp\n",
        "Img = cv2.imread('lena.bmp', cv2.IMREAD_GRAYSCALE)\n",
        "plt.imshow(Img)\n",
        "plt.gray()\n",
        "plt.show()"
      ]
    },
    {
      "cell_type": "markdown",
      "metadata": {
        "id": "96VdCBxllttx"
      },
      "source": [
        "Na wybranym obrazie wykonaj operację LUT.\n",
        "Służy do tego funkcja `cv2.LUT` przyjmująca dwa argumenty: obraz oraz tablicę przekodowania.\n",
        "Wybierz dowolną z zaimportowanych tablic i wyświetl wynikowy obraz."
      ]
    },
    {
      "cell_type": "code",
      "execution_count": null,
      "metadata": {
        "id": "kJORNF4Xlttx"
      },
      "outputs": [],
      "source": [
        "Imglut = cv2.LUT(Img, lut.kwadratowa)\n",
        "plt.imshow(Imglut)\n",
        "plt.gray()\n",
        "plt.show()"
      ]
    },
    {
      "cell_type": "markdown",
      "source": [],
      "metadata": {
        "id": "X-tu9p74o_C8"
      }
    },
    {
      "cell_type": "markdown",
      "metadata": {
        "id": "nJr88XUslttx"
      },
      "source": [
        "Aby lepiej zobaczyć w jaki sposób działają różne przekodowania LUT, skonstruujemy funkcję, która jako argumenty pobierać będzie obrazek oryginalny oraz tablicę przekodowania, a następnie na wspólnym rysunku będzie wyświetlać: funkcję, obraz wejściowy oraz wynik przekodowania.\n",
        "\n",
        "Przypomnienie składni tworzenia funkcji w pythonie:\n",
        "```{python}\n",
        "  def nazwa_funkcji(para, metry):\n",
        "  \t# cialo funkcji\n",
        "```"
      ]
    },
    {
      "cell_type": "markdown",
      "metadata": {
        "id": "m5XQsp74ltty"
      },
      "source": [
        "  - Stwórz nową funkcję i nazwij ją LUT.\n",
        "  - Funkcja powinna przyjmować dwa parametry: obraz oraz tablicę przekodowania.\n",
        "  - W ciele funkcji wykonaj przekodowanie LUT, podobnie jak wcześniej w przykładzie.\n",
        "  - Funkcja powinna wyświetlić wykres składający się z 3 umieszczonych obok siebie pól: wykres przekodowania, obraz oryginalny oraz obraz przekształcony.\n",
        "    Każdy z wykresów powinien być podpisany.\n",
        "    _(W razie problemów można przypomnieć sobie te zagadnienia z laboratorium wprowadzającego)_\n",
        "  - Jeśli wykres przekodowania jest zbyt rozciągnięty, można go wyrównać, np. `ax2.set_aspect('equal')`."
      ]
    },
    {
      "cell_type": "code",
      "execution_count": null,
      "metadata": {
        "id": "buF3fuzTltty"
      },
      "outputs": [],
      "source": [
        "def LUT(image,recoding):\n",
        "    Img_after=cv2.LUT(image,recoding)\n",
        "    f, (ax1,ax2,ax3) = plt.subplots(1,3)\n",
        "    ax1.set_title('Wykres przekodowania')\n",
        "    ax2.set_title('Obraz orginalny')\n",
        "    ax3.set_title('Obraz przekształcony')\n",
        "    ax1.plot(recoding)\n",
        "    ax1.set_aspect('equal')\n",
        "    ax2.imshow(image)\n",
        "    ax3.imshow(Img_after)\n",
        "    for ax in (ax2,ax3):\n",
        "      plt.show()"
      ]
    },
    {
      "cell_type": "markdown",
      "metadata": {
        "id": "JX8cYVIOltty"
      },
      "source": [
        "Wywołaj przygotowaną funkcję dla każdego z przekształceń.\n",
        "W wyniku powinno powstać 7 wykresów."
      ]
    },
    {
      "cell_type": "code",
      "execution_count": null,
      "metadata": {
        "id": "taQDeoYZltty"
      },
      "outputs": [],
      "source": [
        "for recode in (lut.kwadratowa,lut.log,lut.odwlog,lut.odwrotna,lut.pierwiastkowa,lut.pila,lut.wykladnicza):\n",
        "    LUT(Img,recode)"
      ]
    },
    {
      "cell_type": "markdown",
      "metadata": {
        "id": "MBB-fbANltty"
      },
      "source": [
        "## Operacja arytmetyczne\n",
        "\n",
        "### Dodawanie\n",
        "\n",
        "Wczytaj dwa obrazy _lena.bmp_ i _jet.bmp_ i wyświetl je."
      ]
    },
    {
      "cell_type": "code",
      "execution_count": null,
      "metadata": {
        "id": "IQ3tscuwltty"
      },
      "outputs": [],
      "source": [
        "!wget https://raw.githubusercontent.com/vision-agh/poc_sw/master/02_Point/jet.bmp\n",
        "!wget https://raw.githubusercontent.com/vision-agh/poc_sw/master/02_Point/lena.bmp\n",
        "\n",
        "Jet=cv2.imread(\"jet.bmp\")\n",
        "Lena=cv2.imread(\"lena.bmp\")\n",
        "\n",
        "Jet=cv2.cvtColor(Jet, cv2.COLOR_RGB2GRAY)\n",
        "Lena=cv2.cvtColor(Lena, cv2.COLOR_RGB2GRAY)\n",
        "\n",
        "plt.imshow(Jet)\n",
        "plt.show()\n",
        "plt.imshow(Lena)\n",
        "plt.show()"
      ]
    },
    {
      "cell_type": "markdown",
      "metadata": {
        "id": "9yLPqVfXlttz"
      },
      "source": [
        "Dodaj obrazy _lena_ i _jet_, wykorzystaj funkcję `cv2.add`.\n",
        "Uzyskany wynik wyświetl."
      ]
    },
    {
      "cell_type": "code",
      "execution_count": null,
      "metadata": {
        "id": "4LMaPIXilttz"
      },
      "outputs": [],
      "source": [
        "add1 = cv2.add(Jet,Lena)\n",
        "plt.imshow(add1)\n",
        "plt.show()"
      ]
    },
    {
      "cell_type": "markdown",
      "metadata": {
        "id": "wp8LpsIjlttz"
      },
      "source": [
        "Czy wynik sumowania jest satysfakcjonujący?\n",
        "Co może niekorzystnie wpływać na rezultat operacji?\n",
        "Spróbuj wykonać dodawanie ponownie wykorzystując typ uint16 (`jet.astype('uint16')`).\n",
        "Wynikowy obraz należy przeskalować do zakresu 0-255, zamienić na typ uint8 i wyświetlić. _\n",
        "Uwaga: operacja ta jest użyteczna w przypadku, gdy dane do wyświetlenia wykraczają poza zakres 0-255, w przeciwnym przypadku jej wykorzystanie może zniekształcić wyniki._"
      ]
    },
    {
      "cell_type": "code",
      "execution_count": null,
      "metadata": {
        "id": "EWf1_fFLlttz"
      },
      "outputs": [],
      "source": [
        "jet_16=Jet.astype('uint16')\n",
        "lena_16=Lena.astype('uint16')\n",
        "addition_16 = cv2.add(jet_16,lena_16)\n",
        "\n",
        "addition_normalized=cv2.normalize(addition_16, addition_16, 0, 255,cv2.NORM_MINMAX)\n",
        "addition_8=addition_normalized.astype('uint8')\n",
        "plt.imshow(addition_8)\n",
        "plt.show()"
      ]
    },
    {
      "cell_type": "markdown",
      "metadata": {
        "id": "rEEjTl7ylttz"
      },
      "source": [
        "### Kombinacja liniowa\n",
        "\n",
        "Do wykonywania operacji kombinacji liniowej służy funkcja `cv2.addWeighted`.\n",
        "Zapoznaj się z dokumentacją tej funkcji i przetestuj kilka kombinacji liniowych obrazów _lena_ i _jet_.\n",
        "Wyświetl wynik dowolnej z nich."
      ]
    },
    {
      "cell_type": "code",
      "execution_count": null,
      "metadata": {
        "id": "kci5tF29lttz"
      },
      "outputs": [],
      "source": [
        "Sum=cv2.addWeighted(Jet,0.7,Lena,0.3,0)\n",
        "plt.imshow(Sum)\n",
        "plt.show()"
      ]
    },
    {
      "cell_type": "markdown",
      "metadata": {
        "id": "JOFrbfunlttz"
      },
      "source": [
        "### Odejmowanie\n",
        "\n",
        "Wykorzystując funkcję `cv2.subtract` odejmij obrazy _lena_ i _jet_."
      ]
    },
    {
      "cell_type": "code",
      "execution_count": null,
      "metadata": {
        "id": "FGPU24Xhltt0"
      },
      "outputs": [],
      "source": [
        "subtraction = cv2.subtract(Lena,Jet)\n",
        "plt.imshow(subtraction)\n",
        "plt.show()"
      ]
    },
    {
      "cell_type": "markdown",
      "metadata": {
        "id": "2uTlOl31ltt0"
      },
      "source": [
        "Czy wynik odejmowania jest satysfakcjonujący?\n",
        "Co może niekorzystnie wpływać na rezultat operacji?\n",
        "Często zamiast zwykłego odejmowania wykorzystuje się operację wartość bezwzględna z różnicy (pozwala to między innymi uniknąć pokazanych powyżej problemów).\n",
        "Zamień typ obrazów _lena_ i _jet_ z uint8 na **int16**, odejmij je od siebie, a następnie wykorzystując funkcję `np.abs` wykonaj operację wartość bezwzględna z różnicy.\n",
        "Wyświetl ten obraz.\n",
        "Zastanów się, dlaczego ta zmiana poprawia wynik odejmowania?"
      ]
    },
    {
      "cell_type": "code",
      "execution_count": null,
      "metadata": {
        "id": "hc_bQrvCltt0"
      },
      "outputs": [],
      "source": [
        "jet_16=Jet.astype('int16')\n",
        "lena_16=Lena.astype('int16')\n",
        "subtraction_16 = cv2.subtract(lena_16,jet_16)\n",
        "subtraction_normalized=cv2.normalize(subtraction_16,subtraction_16,0,255,cv2.NORM_MINMAX)\n",
        "subtraction_abs=np.abs(subtraction_normalized)\n",
        "plt.imshow(subtraction_abs)\n",
        "plt.show()"
      ]
    },
    {
      "cell_type": "markdown",
      "metadata": {
        "id": "UtNpD_57ltt0"
      },
      "source": [
        "### Mnożenie\n",
        "\n",
        "Mnożenie dwóch obrazów pozwala wykonać funkcja `cv2.multiply`.\n",
        "Wykonaj mnożenie obrazów _lena_ i _jet_.\n",
        "Czy wynik takiej operacji zawiera jakąś istotną informację?\n",
        "Dlaczego?"
      ]
    },
    {
      "cell_type": "code",
      "execution_count": null,
      "metadata": {
        "id": "2L36TT2rltt0"
      },
      "outputs": [],
      "source": [
        "multiplication = cv2.multiply(Lena,Jet)\n",
        "plt.imshow(multiplication)\n",
        "plt.show()"
      ]
    },
    {
      "cell_type": "markdown",
      "metadata": {
        "id": "UZy-kHiOltt0"
      },
      "source": [
        "Mnożenie częściej wykorzystuje się jako:\n",
        "  + mnożenie przez stałą $-$ co powoduje ogólne rozjaśnienie albo ściemnienie obrazu,\n",
        "  + mnożenie przez maskę $-$ czyli obraz binarny."
      ]
    },
    {
      "cell_type": "markdown",
      "metadata": {
        "id": "CE0NwVQdltt0"
      },
      "source": [
        "Wczytaj maskę _kolo.bmp_ (https://raw.githubusercontent.com/vision-agh/poc_sw/master/02_Point/kolo.bmp).\n",
        "Przemnóż wybrany obraz przez maskę i wyświetl wynik.\n",
        "Mnożenie przez maskę można zrealizować za pomocą funkcji `cv2.multiply`, ale maskę należy należy najpierw przekształcić z zakresu 0-255 do 0-1, na przykład `(maska).astype('bool').astype('uint8')`."
      ]
    },
    {
      "cell_type": "code",
      "execution_count": null,
      "metadata": {
        "id": "0DBJ4B9wltt1"
      },
      "outputs": [],
      "source": [
        "!wget https://raw.githubusercontent.com/vision-agh/poc_sw/master/02_Point/kolo.bmp\n",
        "\n",
        "kolo=cv2.imread(\"kolo.bmp\", cv2.IMREAD_GRAYSCALE)\n",
        "kolo_maska=kolo.astype('bool').astype('uint8')\n",
        "jet_maska=cv2.multiply(Jet,kolo_maska)\n",
        "\n",
        "plt.imshow(jet_maska)\n",
        "plt.show()"
      ]
    },
    {
      "cell_type": "markdown",
      "metadata": {
        "id": "CvJ1wWRgltt1"
      },
      "source": [
        "### Negatyw\n",
        "\n",
        "Negatyw obrazu uzyskuje się za pomocą funkcji `cv2.bitwise_not(img)`\n",
        "Negatyw obrazu można również uzyskać wykorzystując przekodowanie LUT.\n",
        "Można w tym celu posłużyć się przygotowaną wcześniej tablicą `lut.odwrotna`.\n",
        "Przetestuj działanie tych funkcji i wykonaj negatyw obrazu _lena_ dowolnym sposobem."
      ]
    },
    {
      "cell_type": "code",
      "execution_count": null,
      "metadata": {
        "id": "RRsBCOsqltt1"
      },
      "outputs": [],
      "source": [
        "neg=cv2.bitwise_not(Lena)\n",
        "plt.imshow(neg)\n",
        "plt.show()"
      ]
    },
    {
      "cell_type": "markdown",
      "metadata": {
        "id": "7IEq3ABsltt1"
      },
      "source": [
        "## Operacje logiczne\n",
        "\n",
        "Na poszczególnych punktach obrazu (najczęściej binarnego $-$ czyli składającego się z dwóch kolorów: czarnego i białego) można wykonywać operacje logiczne: NOT, AND, OR, XOR itp.\n",
        "Wczytaj dwa obrazy: _kolo.bmp_ i _kwadrat.bmp_ (https://raw.githubusercontent.com/vision-agh/poc_sw/master/02_Point/kwadrat.bmp), następnie wyświetl je."
      ]
    },
    {
      "cell_type": "code",
      "execution_count": null,
      "metadata": {
        "id": "DtPSWQctltt1"
      },
      "outputs": [],
      "source": [
        "!wget https://raw.githubusercontent.com/vision-agh/poc_sw/master/02_Point/kolo.bmp\n",
        "!wget https://raw.githubusercontent.com/vision-agh/poc_sw/master/02_Point/kwadrat.bmp\n",
        "\n",
        "kwadrat=cv2.imread(\"kwadrat.bmp\", cv2.IMREAD_GRAYSCALE)\n",
        "plt.imshow(kolo)\n",
        "plt.show()\n",
        "plt.imshow(kwadrat)\n",
        "plt.show()"
      ]
    },
    {
      "cell_type": "markdown",
      "metadata": {
        "id": "mRIdtFB9ltuB"
      },
      "source": [
        "Na wczytanych obrazach wykonaj wybrane operacje logiczne: NOT (operator `~`), AND (`&`), OR (`|`), XOR (`^`).\n",
        "Operator `~` jest jednoargumentowy, wszystkie pozostałe są dwuargumentowe.\n",
        "Alternatywnym sposobem jest wykorzystanie funkcji z biblioteki opencv: `cv2.bitwise_not`, `cv2.bitwise_and`, `cv2.bitwise_or`, `cv2.bitwise_xor`.\n",
        "Wyświetl rezultaty."
      ]
    },
    {
      "cell_type": "code",
      "execution_count": null,
      "metadata": {
        "pycharm": {
          "name": "#%%\n"
        },
        "id": "F_p0L9Z7ltuC"
      },
      "outputs": [],
      "source": [
        "Not=~kwadrat\n",
        "And=kolo&kwadrat\n",
        "Or=kolo|kwadrat\n",
        "Xor=kolo^kwadrat\n",
        "f, (ax1,ax2,ax3,ax4) = plt.subplots(1,4,figsize=(15,15))\n",
        "\n",
        "ax1.set_title('Operacja NOT')\n",
        "ax2.set_title('Operacja AND')\n",
        "ax3.set_title('Operacja OR')\n",
        "ax4.set_title('Operacja XOR')\n",
        "ax1.imshow(Not)\n",
        "ax2.imshow(And)\n",
        "ax3.imshow(Or)\n",
        "ax4.imshow(Xor)\n",
        "\n",
        "for ax in (ax1,ax2,ax3,ax4):\n",
        "  f.tight_layout(pad=3.0)\n",
        "plt.show()"
      ]
    },
    {
      "cell_type": "markdown",
      "source": [
        " **Wnioski:**\n",
        "\n",
        " Operacje punktowe na obrazach cyfrowych, takie jak przekształcenia LUT, arytmetyczne (np. dodawanie), kombinacje liniowe, odejmowanie, mnożenie, negatyw i operacje logiczne, pozwalają na różnorodne modyfikacje obrazów. Kluczowe zagadnienia obejmują właściwe skalowanie wyników, unikanie utraty informacji przy dodawaniu, zastosowanie funkcji cv2.addWeighted dla kombinacji liniowych oraz dbałość o zakresy wartości pikseli. Przetwarzanie punktowe jest istotnym narzędziem w analizie obrazów cyfrowych."
      ],
      "metadata": {
        "id": "SocWoRv4zx8r"
      }
    }
  ],
  "metadata": {
    "kernelspec": {
      "display_name": "Python 3",
      "language": "python",
      "name": "python3"
    },
    "language_info": {
      "codemirror_mode": {
        "name": "ipython",
        "version": 3
      },
      "file_extension": ".py",
      "mimetype": "text/x-python",
      "name": "python",
      "nbconvert_exporter": "python",
      "pygments_lexer": "ipython3",
      "version": "3.8.5"
    },
    "colab": {
      "provenance": []
    }
  },
  "nbformat": 4,
  "nbformat_minor": 0
}
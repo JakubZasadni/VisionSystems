{
  "cells": [
    {
      "cell_type": "markdown",
      "metadata": {
        "pycharm": {
          "name": "#%% md\n"
        },
        "id": "MEVu-CXom4eg"
      },
      "source": [
        "# Filtracja bilateralna"
      ]
    },
    {
      "cell_type": "markdown",
      "metadata": {
        "collapsed": false,
        "pycharm": {
          "name": "#%% md\n"
        },
        "id": "5QrI8Vs9m4ek"
      },
      "source": [
        "## Konwolucja obrazu z filtrem o zadanych współczynnikach\n",
        "\n",
        "Splot (konwolucję) obrazu wejściowego $I$ z filtrem $\\psi$ dla ustalonego punktu obrazu $\\mathbf{x}$ można przedstawić następująco:\n",
        "\n",
        "\\begin{equation}\n",
        "\\hat{I}(\\mathbf{x}) = \\frac{1}{W_N}\\sum_{\\mathbf{p} \\in \\eta(\\mathbf{x})} \\psi(||\\mathbf{p}-\\mathbf{x}||)I(\\mathbf{p})\n",
        "\\tag{1}\n",
        "\\end{equation}\n",
        "\n",
        "gdzie:\n",
        "- $\\hat{I}$ jest obrazem wynikowym (przefiltrowanym),\n",
        "- $W_N = \\sum_y \\psi(y)$ jest parametrem normalizującym współczynniki filtra $\\psi$,\n",
        "- $||\\cdot||$ jest odległością między punktami obrazu $\\mathbf{x}$ i $\\mathbf{p}$ według ustalonej metryki (np. norma $L_2$). Uwaga, proszę pamiętać, że zarówno $\\mathbf{x}$, jak i $\\mathbf{p}$ to współrzędne przestrzenne,\n",
        "- $\\eta(\\mathbf{x})$ jest otoczeniem punktu $\\mathbf{x}$.\n",
        "\n",
        "Funkcja $\\psi$ decyduje o charakterze filtracji. Dla filtru Gaussowskiego:\n",
        "\n",
        "\\begin{equation}\n",
        "\\psi(y) = G_{\\delta_s}(y)\n",
        "\\tag{2}\n",
        "\\end{equation}\n",
        "\n",
        "gdzie: $G_{\\delta_s}(y)$ jest funkcją Gaussa z parametrem skali $\\delta_s$.\n",
        "\n",
        "Opisaną powyżej filtrację realizowaliśmy w ramach ćwiczenia \"Przetwarzanie wstępne. Filtracja kontekstowa.\""
      ]
    },
    {
      "cell_type": "markdown",
      "metadata": {
        "collapsed": false,
        "pycharm": {
          "name": "#%% md\n"
        },
        "id": "6-T-z-c2m4en"
      },
      "source": [
        "## Filtracja bilateralna\n",
        "\n",
        "Wadą klasycznego splotu jest brak adaptacji współczynników filtra do lokalnego otoczenia $\\eta(\\mathbf{x})$ filtrowanego punktu $\\mathbf{x}$.\n",
        "Oznacza to wykorzystanie tych samych współczynników filtra $\\psi$ niezależnie od tego czy otoczenie jest względnie jednorodne lub zawiera krawędzie obiektów (w tym przypadku dochodzi do \"rozmywania\" krawędzi).\n",
        "Filtracja bilateralna uwzględnia lokalne otoczenie filtrowanego punktu, w ten sposób, że parametry filtra zmieniają się w zależności od \"wyglądu\" otoczenia.\n",
        "\n",
        "\n",
        "Współczynniki filtra obliczane są na podstawie odległości filtrowanego punktu $\\mathbf{x}$ od każdego punktu otoczenia $\\mathbf{p}$ w dziedzinie przestrzennej obrazu (tak jak przy typowym filtrze np. Gaussa) oraz odległości punktów w przeciwdziedzinie obrazu (np. na podstawie różnicy w jasności pikseli dla obrazu w odcieniach szarości):\n",
        "\n",
        "\\begin{equation}\n",
        "\\hat{I}(\\mathbf{x}) = \\frac{1}{W_N}\\sum_{\\mathbf{p} \\in \\eta(\\mathbf{x})} \\psi(||\\mathbf{p}-\\mathbf{x}||) \\gamma(|I(\\mathbf{p}) - I(\\mathbf{x})|) I(\\mathbf{p})\n",
        "\\tag{3}\n",
        "\\end{equation}\n",
        "gdzie:\n",
        "- $W_N$ jest współczynnikiem normalizującym filtr,\n",
        "- $\\gamma$ jest funkcją odległości w przeciwdziedzinie obrazu, np. $\\gamma(y)=\\exp(-\\frac{y^2}{2\\delta_r^2})$\n",
        "- parametr $\\delta_r$ jest utożsamiany z poziomem szumu w obrazie i należy go dobrać w sposób empiryczny.\n",
        "\n",
        "Proszę chwilę zastanowić się nad powyższym równaniem, w szczególności nad funkcją $\\gamma$. Proszę wyznaczyć, jaka będzie wartość funkcji dla pikseli podobnych (różnica 0, 1, 2), a skrajnie różnych (255, 200).\n",
        "\n",
        "##  Realizacja ćwiczenia\n",
        "\n",
        "### Wczytanie danych\n",
        "\n",
        "1. Wczytaj dane z pliku *MR_data.mat*. W tym celu wykorzystaj funkcję `loadmat` z pakietu scipy:\n",
        "        from scipy.io import loadmat\n",
        "        mat = loadmat('MR_data.mat')\n",
        "\n",
        "2. Wczytany plik zawiera 5 obrazów: *I_noisefree*, *I_noisy1*, *I_noisy2*, *I_noisy3* oraz *I_noisy4*. Odczytać je można w następujący sposób:\n",
        "        Input = mat['I_noisy1']\n",
        "\n",
        "3. Wyświetl wybrany obraz z pliku *MR_data.mat*. Zagadka - co to za obrazowanie medyczne?"
      ]
    },
    {
      "cell_type": "code",
      "execution_count": null,
      "metadata": {
        "pycharm": {
          "name": "#%% Zadanie 1 - wyświetlanie\n"
        },
        "id": "Hbz4PyRem4eo"
      },
      "outputs": [],
      "source": [
        "from matplotlib import pyplot as plt\n",
        "import numpy as np\n",
        "from scipy.io import loadmat\n",
        "import math\n",
        "import os\n",
        "from scipy import signal\n",
        "import cv2\n",
        "import copy\n",
        "\n",
        "if not os.path.exists(\"MR_data.mat\") :\n",
        "    !wget https://raw.githubusercontent.com/vision-agh/poc_sw/master/07_Bilateral/MR_data.mat --no-check-certificate\n",
        "\n",
        "#TODO Samodzielna\n",
        "\n",
        "mat = loadmat('MR_data.mat')\n",
        "Input_1 = mat['I_noisy1']\n",
        "Input_2 = mat['I_noisy2']\n",
        "Input_3 = mat['I_noisy3']\n",
        "Input_4 = mat['I_noisy4']\n",
        "Input_0 = mat['I_noisefree']\n",
        "\n",
        "plt.imshow(Input_4, 'gray')\n",
        "plt.axis('off')\n",
        "plt.show()\n",
        "\n",
        "def fgaussian(size, sigma):\n",
        "     m = n = size\n",
        "     h, k = m//2, n//2\n",
        "     x, y = np.mgrid[-h:h+1, -k:k+1]\n",
        "     g = np.exp(-(x**2 + y**2)/(2*sigma**2))\n",
        "     return g / g.sum()\n",
        "\n",
        "def fgaussian_bez(size, sigma):\n",
        "     m = n = size\n",
        "     h, k = m//2, n//2\n",
        "     x, y = np.mgrid[-h:h+1, -k:k+1]\n",
        "     g = np.exp(-(x**2 + y**2)/(2*sigma**2))\n",
        "     return g\n"
      ]
    },
    {
      "cell_type": "markdown",
      "metadata": {
        "collapsed": false,
        "pycharm": {
          "name": "#%% md\n"
        },
        "id": "Yh7rQVgam4eq"
      },
      "source": [
        "### \"Klasyczna\" konwolucja\n",
        "\n",
        "1. Zdefiniuj parametry filtra Gaussowskiego: rozmiar okna i wariancję $\\delta_S$.\n",
        "2. Oblicz współczynniki filtra na podstawie zdefiniowanych parametrów (najprościej w ramach podwójnej pętli for).\n",
        "2. Sprawdź ich poprawność i zwizualizuj filtr (tak jak w ćwiczeniu pt. \"Przetwarzanie wstępne. Filtracja kontekstowa.\").\n",
        "3. Wykonaj kopię obrazu wejściowego: `IConv = Input.copy()`\n",
        "4. Wykonaj podwójną pętlę po obrazie. Pomiń ramkę, dla której nie jest zdefiniowany kontekst o wybranej wielkości.\n",
        "5. W każdej iteracji stwórz dwuwymiarową tablicę zawierającą aktualny kontekst.\n",
        "6. Napisz funkcję, która będzie obliczała nową wartość piksela.\n",
        "Argumentem tej funkcji są aktualnie przetwarzane okno i współczynniki filtra.\n",
        "7. Obliczoną wartość przypisz do odpowiedniego piksela kopii obrazu wejściowego.\n",
        "8. Wyświetl wynik filtracji.\n",
        "9. Porównaj wynik z obrazem oryginalnym."
      ]
    },
    {
      "cell_type": "code",
      "execution_count": null,
      "metadata": {
        "pycharm": {
          "name": "#%% Zadanie 2 - konwolucja\n"
        },
        "id": "_gymWDFdm4er"
      },
      "outputs": [],
      "source": [
        "#TODO Samodzielna\n",
        "\n",
        "Input_1_gaus=signal.convolve2d(Input_1,fgaussian(5,0.7),mode='same')\n",
        "\n",
        "def pixel_out(okno,filtr,variancy):\n",
        "    A,B = okno.shape\n",
        "    pixel=0\n",
        "    x = [A//2,B//2]\n",
        "    for i in range(A):\n",
        "        for j in range(B):\n",
        "            AB=[i,j]\n",
        "\n",
        "            y=np.sqrt(((x[0]-AB[0])**2)+((x[1]-AB[1])**2))\n",
        "            gaus= np.exp(-(y**2)/(2*(variancy**2)))\n",
        "            pixel=pixel+gaus*okno[i,j]\n",
        "    pixel=pixel/filtr.sum()\n",
        "    return pixel\n",
        "\n",
        "\n",
        "def convol(img,window,variancy):\n",
        "    filtr=fgaussian_bez(5,variancy)\n",
        "    IConv = img.copy()\n",
        "    (X,Y)=IConv.shape\n",
        "    polowa = window//2\n",
        "    for i in range(0+window//2,X-window//2):\n",
        "        for j in range(0+window//2,Y-window//2):\n",
        "            okno = IConv[i-polowa:i+polowa+1,j-polowa:j+polowa+1]\n",
        "            new_pixel=pixel_out(okno,filtr,variancy)\n",
        "            IConv[i,j]=new_pixel\n",
        "    return IConv\n",
        "\n",
        "img_after=convol(Input_1,5,0.7)\n",
        "plt.imshow(img_after, 'gray')\n",
        "plt.axis('off')\n",
        "plt.show()\n",
        "plt.imshow(Input_1, 'gray')\n",
        "plt.axis('off')\n",
        "plt.show()\n",
        "\n"
      ]
    },
    {
      "cell_type": "markdown",
      "metadata": {
        "collapsed": false,
        "pycharm": {
          "name": "#%% md\n"
        },
        "id": "wWW1AOOPm4er"
      },
      "source": [
        "### Filtracja bilateralna\n",
        "\n",
        "1. Zdefiniuj dodatkowy parametr: wariancję $\\delta_R$.\n",
        "3. Wykonaj kopię obrazu wejściowego: `IBilateral = Input.copy()`\n",
        "4. Wykonaj podwójną pętlę po obrazie. Pomiń ramkę, dla której nie jest zdefiniowany kontekst o wybranej wielkości.\n",
        "5. W każdej iteracji stwórz dwuwymiarową tablicę zawierającą aktualny kontekst.\n",
        "6. Napisz funkcję, która będzie obliczała nową wartość piksela.\n",
        "Argumentami funkcji są aktualnie przetwarzane okno, współczynniki filtra gaussowskiego (takie same jak wcześniej) i wariancja $\\delta_R$.\n",
        "7. Oblicz odległość w przeciwdziedzinie (dla wartości pikseli).\n",
        "8. Oblicz funkcję Gaussa dla obliczonych odległości z zadanym parametrem.\n",
        "9. Wykonaj normalizację obliczonych współczynników.\n",
        "10. Obliczoną wartość przypisz do odpowiedniego piksela kopii obrazu wejściowego.\n",
        "11. Wyświetl wynik filtracji.\n",
        "12. Porównaj wynik z obrazem oryginalnym."
      ]
    },
    {
      "cell_type": "code",
      "execution_count": null,
      "metadata": {
        "pycharm": {
          "name": "#%%\n"
        },
        "id": "wppStCLjm4es"
      },
      "outputs": [],
      "source": [
        "def pixel_out_2(okno,filtr,variancy,delta_r):\n",
        "    A,B = okno.shape\n",
        "    pixel=0\n",
        "    normalization=0\n",
        "    x = [A//2,B//2]\n",
        "    for i in range(A):\n",
        "        for j in range(B):\n",
        "            AB=[i,j]\n",
        "\n",
        "            y=np.sqrt(((x[0]-AB[0])**2)+((x[1]-AB[1])**2))\n",
        "            gaus= np.exp(-(y**2)/(2*(variancy**2)))\n",
        "\n",
        "            diff=np.abs(okno[A//2,B//2]-okno[i,j])\n",
        "            gaus_diff= np.exp(-(diff**2)/(2*(delta_r**2)))\n",
        "\n",
        "\n",
        "            pixel=pixel+gaus*gaus_diff*okno[i,j]\n",
        "            normalization+=gaus*gaus_diff\n",
        "    pixel=pixel/(normalization)\n",
        "    return pixel\n",
        "\n",
        "\n",
        "def bilateral(img,window,variancy,delta_r):\n",
        "    filtr=fgaussian_bez(window,variancy)\n",
        "    IConvolucja = img.copy()\n",
        "    (X,Y)=IConvolucja.shape\n",
        "    polowa = window//2\n",
        "    for i in range(0+window//2,X-window//2):\n",
        "        for j in range(0+window//2,Y-window//2):\n",
        "            okno = IConvolucja[i-polowa:i+polowa+1,j-polowa:j+polowa+1]\n",
        "            new_pixel=pixel_out_2(okno,filtr,variancy,delta_r)\n",
        "            IConvolucja[i,j]=new_pixel\n",
        "    return IConvolucja\n",
        "\n",
        "\n",
        "window=5\n",
        "variancy=0.7\n",
        "delta_r=20\n",
        "variancy_1=5\n",
        "convolucja=convol(Input_1,window,variancy)\n",
        "bilateralne=bilateral(Input_1,window,variancy_1,delta_r)\n",
        "Input_1_gaus=signal.convolve2d(Input_1,fgaussian(5,0.7),mode='same')\n",
        "\n",
        "f, ax1 = plt.subplots(2,2,figsize=(16,16))\n",
        "ax1[0,0].imshow(convolucja, 'gray')\n",
        "ax1[0,0].set_title(\"Konwolucja\")\n",
        "ax1[0,0].axis('off')\n",
        "ax1[0,1].imshow(bilateralne, 'gray')\n",
        "ax1[0,1].set_title(\"Filtracja bilateralna\")\n",
        "ax1[0,1].axis('off')\n",
        "ax1[1,0].imshow(Input_1, 'gray')\n",
        "ax1[1,0].set_title(\"Oryginał\")\n",
        "ax1[1,0].axis('off')\n",
        "ax1[1,1].imshow(Input_1_gaus, 'gray')\n",
        "ax1[1,1].set_title(\"Konwolucja z biblioteki cv2\")\n",
        "ax1[1,1].axis('off')\n"
      ]
    },
    {
      "cell_type": "code",
      "source": [
        "window=5\n",
        "variancy=0.9\n",
        "delta_r=45\n",
        "variancy_1=3\n",
        "convolucja_2=convol(Input_2,window,variancy)\n",
        "bilateralne_2=bilateral(Input_2,window,variancy_1,delta_r)\n",
        "Input_2_gaus=signal.convolve2d(Input_2,fgaussian(5,variancy),mode='same')\n",
        "\n",
        "f, ax1 = plt.subplots(2,2,figsize=(16,16))\n",
        "ax1[0,0].imshow(convolucja_2, 'gray')\n",
        "ax1[0,0].set_title(\"Konwolucja\")\n",
        "ax1[0,0].axis('off')\n",
        "ax1[0,1].imshow(bilateralne_2, 'gray')\n",
        "ax1[0,1].set_title(\"Filtracja bilateralna\")\n",
        "ax1[0,1].axis('off')\n",
        "ax1[1,0].imshow(Input_2, 'gray')\n",
        "ax1[1,0].set_title(\"Oryginał\")\n",
        "ax1[1,0].axis('off')\n",
        "ax1[1,1].imshow(Input_2_gaus, 'gray')\n",
        "ax1[1,1].set_title(\"Konwolucja z biblioteki cv2\")\n",
        "ax1[1,1].axis('off')"
      ],
      "metadata": {
        "id": "OtR70GB7oq03"
      },
      "execution_count": null,
      "outputs": []
    },
    {
      "cell_type": "code",
      "source": [
        "window=5\n",
        "variancy=0.1\n",
        "delta_r=5\n",
        "variancy_1=0.5\n",
        "convolucja_3=convol(Input_3,window,variancy)\n",
        "bilateralne_3=bilateral(Input_3,window,variancy_1,delta_r)\n",
        "Input_3_gaus=signal.convolve2d(Input_3,fgaussian(5,variancy),mode='same')\n",
        "\n",
        "f, ax1 = plt.subplots(2,2,figsize=(16,16))\n",
        "ax1[0,0].imshow(convolucja_3, 'gray')\n",
        "ax1[0,0].set_title(\"Konwolucja\")\n",
        "ax1[0,0].axis('off')\n",
        "ax1[0,1].imshow(bilateralne_3, 'gray')\n",
        "ax1[0,1].set_title(\"Filtracja bilateralna\")\n",
        "ax1[0,1].axis('off')\n",
        "ax1[1,0].imshow(Input_3, 'gray')\n",
        "ax1[1,0].set_title(\"Oryginał\")\n",
        "ax1[1,0].axis('off')\n",
        "ax1[1,1].imshow(Input_3_gaus, 'gray')\n",
        "ax1[1,1].set_title(\"Konwolucja z biblioteki cv2\")\n",
        "ax1[1,1].axis('off')"
      ],
      "metadata": {
        "id": "9e0Tu6H-ovNo"
      },
      "execution_count": null,
      "outputs": []
    },
    {
      "cell_type": "code",
      "source": [
        "window=5\n",
        "variancy=0.1\n",
        "\n",
        "delta_r=5\n",
        "variancy_1=0.5\n",
        "convolucja_4=convol(Input_4,window,variancy)\n",
        "bilateralne_4=bilateral(Input_4,window,variancy_1,delta_r)\n",
        "Input_4_gaus=signal.convolve2d(Input_4,fgaussian(5,variancy),mode='same')\n",
        "\n",
        "f, ax1 = plt.subplots(2,2,figsize=(16,16))\n",
        "ax1[0,0].imshow(convolucja_4, 'gray')\n",
        "ax1[0,0].set_title(\"Konwolucja\")\n",
        "ax1[0,0].axis('off')\n",
        "ax1[0,1].imshow(bilateralne_4, 'gray')\n",
        "ax1[0,1].set_title(\"Filtracja bilateralna\")\n",
        "ax1[0,1].axis('off')\n",
        "ax1[1,0].imshow(Input_4, 'gray')\n",
        "ax1[1,0].set_title(\"Oryginał\")\n",
        "ax1[1,0].axis('off')\n",
        "ax1[1,1].imshow(Input_4_gaus, 'gray')\n",
        "ax1[1,1].set_title(\"Konwolucja z biblioteki cv2\")\n",
        "ax1[1,1].axis('off')"
      ],
      "metadata": {
        "id": "0wDKYIaZoy0c"
      },
      "execution_count": null,
      "outputs": []
    },
    {
      "cell_type": "markdown",
      "source": [
        "#***Wnioski:***\n",
        "\n",
        "Filtracja bilateralna wykazuje znaczącą przewagę nad klasyczną filtracją Gaussowską, głównie dzięki swojej zdolności do redukcji szumu przy jednoczesnym zachowaniu szczegółów i ostrości krawędzi obrazu. Jest to możliwe dzięki unikalnej metodzie uwzględniania nie tylko odległości przestrzennej między pikselami, ale także różnicy w ich intensywności. Ta adaptacyjna cecha filtracji bilateralnej sprawia, że jest ona bardziej skuteczna w zachowaniu ważnych cech wizualnych obrazu, co czyni ją preferowaną metodą w zastosowaniach, gdzie jakość i szczegółowość obrazu są krytyczne. Jednakże, należy pamiętać o wyższej złożoności obliczeniowej tej metody oraz o konieczności starannego doboru parametrów, aby osiągnąć optymalne rezultaty. Pomimo tych wyzwań, uniwersalność i efektywność filtracji bilateralnej w zachowaniu detali przy jednoczesnej redukcji szumu sprawiają, że jest ona cenna w szerokim zakresie zastosowań przetwarzania obrazu.\n"
      ],
      "metadata": {
        "id": "R94HcxALqDCq"
      }
    }
  ],
  "metadata": {
    "kernelspec": {
      "display_name": "Python 3",
      "language": "python",
      "name": "python3"
    },
    "language_info": {
      "codemirror_mode": {
        "name": "ipython",
        "version": 3
      },
      "file_extension": ".py",
      "mimetype": "text/x-python",
      "name": "python",
      "nbconvert_exporter": "python",
      "pygments_lexer": "ipython3",
      "version": "3.8.3"
    },
    "colab": {
      "provenance": []
    }
  },
  "nbformat": 4,
  "nbformat_minor": 0
}
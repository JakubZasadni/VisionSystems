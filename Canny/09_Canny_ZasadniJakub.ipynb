{
  "cells": [
    {
      "cell_type": "markdown",
      "metadata": {
        "pycharm": {
          "name": "#%% md\n"
        },
        "id": "BzIRUGwttOLy"
      },
      "source": [
        "# Detekcja krawędzi"
      ]
    },
    {
      "cell_type": "markdown",
      "source": [
        "## Cel ćwiczenia\n",
        "\n",
        "- Zapoznanie z metodami detekcji krawędzi:\n",
        "    - Sobel, Prewitt, Roberts - przypomnienie,\n",
        "    - Laplasjan z Gaussa (LoG – ang. Laplacian of Gaussian),\n",
        "    - Canny.\n",
        "\n",
        "Detekcja krawędzi przez wiele lat była podstawą algorytmów segmentacji.\n",
        "Krawędzie wykrywane są najczęściej z wykorzystaniem pierwszej (gradient) i drugiej (Laplasjan) pochodnej przestrzennej.\n",
        "Wykorzystanie obu metod zaprezentowane zostało w ćwiczeniu *Przetwarzanie wstępne. Filtracja kontekstowa*.\n",
        "\n",
        "W niniejszym ćwiczeniu poznane detektory krawędzi zostaną porównane z bardziej zaawansowanymi: Laplasjan z funkcji Gaussa (LoG), Zero Crossing i Canny."
      ],
      "metadata": {
        "collapsed": false,
        "pycharm": {
          "name": "#%% md\n"
        },
        "id": "3q-5sfsItOL1"
      }
    },
    {
      "cell_type": "markdown",
      "source": [
        "## Laplasjan z Gaussa (LoG)\n",
        "\n",
        "Funkcja Gaussa:<br>\n",
        "\\begin{equation}\n",
        "h(r) = e^{\\frac{-r^2}{2 \\sigma^2}}\n",
        "\\end{equation}<br>\n",
        "gdzie:\n",
        "- $r^2 = x^2 + y^2$\n",
        "- $\\sigma$ to odchylenie standardowe.\n",
        "\n",
        "Działanie filtracji Gaussowskiej zostało przedstawione w ćwiczeniu \"Przetwarzanie wstępne\". W jej wyniku następuje rozmazanie obrazu.\n",
        "Laplasjan tej funkcji dany jest wzorem:\n",
        "\n",
        "\\begin{equation}\n",
        "\\nabla^2 h(r) = \\frac{r^2 - 2\\sigma^2}{\\sigma^4} e^{-\\frac{r^2}{2\\sigma^2}}\n",
        "\\end{equation}\n",
        "\n",
        "Funkcję (z oczywistych powodów) nazywamy Laplasjan z Gaussa (LoG).\n",
        "Ponieważ druga pochodna jest operacją liniową, konwolucja obrazu z $\\nabla^2 h(r)$ daje taki sam efekt jak zastosowanie filtracji Gaussa na obrazie, a następnie obliczenie Laplasjanu z wyniku.\n",
        "Lokalizacja krawędzi polega na znalezieniu miejsca, gdzie po filtracji LoG następuje zmiana znaku.\n",
        "\n",
        "1. Wczytaj obraz *house.png*.\n",
        "2. Wykonaj rozmycie Gaussowskie obrazu wejściowego.\n",
        "W tym celu wykorzysaj funkcję `cv2.GaussianBlur(img, kSize, sigma)`.\n",
        "Pierwszy argument jest obrazem wejśćiowym.\n",
        "Drugi jest rozmiarem filtru (podanym w nawiasach okrągłych, np. *(3, 3)*).\n",
        "Trzecim argumentem jest odchylenie standardowe. Wartość jest dobrana automatycznie, jeśli zosanie podana wartość `0` (będą równe rozmiarowi).\n",
        "3. Oblicz laplasjan obrazu rozmytego.\n",
        "W tym celu wykorzysaj funkcję `cv2.Laplacian(img, ddepth)`.\n",
        "Pierszym argumentem jest obraz wejściowy.\n",
        "Drugim argumentem jest typ danych wejściowych. Użyj `cv2.CV_32F`.\n",
        "4. Wyznacz miejsca zmiany znaku.\n",
        "Zaimplementuj funkcję `crossing(LoG, thr)`:\n",
        "    - Najpierw stwórz tablicę, do której zostanie zapisany wynik.\n",
        "    Jej rozmiar jest taki sam jak przetwarzanego obrazu.\n",
        "    - Następnie wykonaj pętle po obrazie (bez ramki jednopikselowej).\n",
        "    W każdej iteracji stwórz otoczenie o rozmiarze $3 \\times 3$.\n",
        "    Dla otoczenia oblicz wartość maksymalną i minimalną.\n",
        "    - Jeśli wartości te mają przeciwne znaki, to do danego miejsca tablicy przypisz wartość:\n",
        "        - jeśli piksel wejściowy > 0, to dodaj do niego wartość bezwzględną minimum.\n",
        "        - jeśli piksel wejściowy < 0, to do jego wartości bezwzględnej dodaj maksimum.\n",
        "    - Zmień zakres wykonanej tablicy do $<0, 255>$.\n",
        "    - Wykonaj progowanie tablicy. Próg jest argumentem wejściowym.\n",
        "    - Przeskaluj dane binarne do wartości `[0, 255]`.\n",
        "    - Wykonaj konwersję do typu *uint8*.\n",
        "    - Wykonaj rozmycie medianowe wyniku.\n",
        "    Wykorzystaj funkcję `cv2.medianBlur(img, kSize)`.\n",
        "    Pierwszym argumentem jest obraz wejśćiowy, a drugim rozmiar filtra.\n",
        "    - Zwróć wyznaczoną tablicę.\n",
        "5. Wyświetl obraz wynikowy.\n",
        "6. Dobierz parametry (rozmiar filtru Gaussa, odchylenie standardowe, próg binaryzacji) tak, by widoczne były kontury domu, ale nie dachówki."
      ],
      "metadata": {
        "collapsed": false,
        "pycharm": {
          "name": "#%% md\n"
        },
        "id": "lOkrWbjHtOL1"
      }
    },
    {
      "cell_type": "code",
      "source": [
        "import cv2\n",
        "from matplotlib import pyplot as plt\n",
        "import numpy as np\n",
        "import math\n",
        "import os\n",
        "\n",
        "if not os.path.exists(\"dom.png\") :\n",
        "    !wget https://raw.githubusercontent.com/vision-agh/poc_sw/master/09_Canny/dom.png --no-check-certificate\n",
        "\n",
        "I_dom = cv2.imread('dom.png', cv2.IMREAD_GRAYSCALE)\n",
        "\n",
        "I_dom_med=cv2.GaussianBlur(I_dom, (3, 3), 0)\n",
        "I_dom_lap=cv2.Laplacian(I_dom_med, cv2.CV_32F)\n",
        "\n",
        "\n",
        "plt.imshow(I_dom_med, 'gray', vmin=0, vmax=256)\n",
        "plt.axis('off')\n",
        "plt.show()"
      ],
      "metadata": {
        "pycharm": {
          "name": "#%% Zadanie 1 - LoG\n"
        },
        "id": "xkEXTcrltOL2"
      },
      "execution_count": null,
      "outputs": []
    },
    {
      "cell_type": "code",
      "source": [
        "def crossing(LoG, thr):\n",
        "    X,Y = LoG.shape\n",
        "    copy = np.zeros((X,Y))\n",
        "    for i in range(1,X-1):\n",
        "        for j in range(1,Y-1):\n",
        "            oto=LoG[i-1:i+2,j-1:j+2]\n",
        "            maxi=oto.max()\n",
        "            mini=oto.min()\n",
        "            if(mini*maxi<0):\n",
        "                if(LoG[i,j]>0):\n",
        "                    copy[i,j]=LoG[i,j]+np.abs(mini)\n",
        "                if(LoG[i,j]<0):\n",
        "                    copy[i,j]=np.abs(LoG[i,j])+maxi\n",
        "\n",
        "    copy_norma=cv2.normalize(copy,None,0,255,cv2.NORM_MINMAX)\n",
        "    copy_bin=np.where(copy_norma < thr, 0, 1)\n",
        "    copy_bn=copy_bin*255\n",
        "    copy_bn=copy_bn.astype('uint8')\n",
        "    copy_blured=cv2.medianBlur(copy_bn, 5)\n",
        "    return copy_blured"
      ],
      "metadata": {
        "id": "UulH1xU0ta91"
      },
      "execution_count": null,
      "outputs": []
    },
    {
      "cell_type": "code",
      "source": [
        "I_dom_med=cv2.GaussianBlur(I_dom, (5, 5), 2)\n",
        "I_dom_lap=cv2.Laplacian(I_dom_med, cv2.CV_32F)\n",
        "I_dom_cross=crossing(I_dom_lap, 1)\n",
        "\n",
        "plt.imshow(I_dom_cross, 'gray', vmin=0, vmax=256)\n",
        "plt.axis('off')\n",
        "plt.show()"
      ],
      "metadata": {
        "id": "XuTiyLhoteyo"
      },
      "execution_count": null,
      "outputs": []
    },
    {
      "cell_type": "markdown",
      "source": [
        "## Algorytm Canny'ego\n",
        "\n",
        "> Algorytm Canny'ego to często wykorzystywana metoda detekcji krawędzi.\n",
        "> Zaproponowana została w~1986r. przez Johna F. Cannego.\n",
        "> Przy jego projektowaniu założono trzy cele:\n",
        "> - niska liczba błędów - algorytm powinien znajdywać wszystkie krawędzie oraz generować jak najmniej fałszywych detekcji,\n",
        "> - punkty krawędziowe powinny być poprawnie lokalizowane - wykryte punkty powinny być jak najbardziej zbliżone do rzeczywistych,\n",
        "> - krawędzie o szerokości 1 piksela - algorytm powinien zwrócić jeden punkt dla każdej rzeczywistej krawędzi.\n",
        "\n",
        "Zaimplementuj pierwszą część algorytmu detekcji krawędzi Canny'ego:\n",
        "1. W pierwszym kroku obraz przefiltruj dwuwymiarowym filtrem Gaussa.\n",
        "2. Następnie oblicz gradient pionowy i poziomy ($g_x $ i $g_y$).\n",
        "Jedną z metod jest filtracja Sobela.\n",
        "3. Dalej oblicz amplitudę:\n",
        "$M(x,y)  = \\sqrt{g_x^2+g_y^2}$ oraz kąt:\n",
        "$\\alpha(x,y) = arctan(\\frac{g_y}{g_x})$.\n",
        "Do obliczenia kąta wykorzystaj funkcję `np.arctan2(x1, x2)`.\n",
        "Wynik jest w radianach.\n",
        "4. W kolejnym etapie wykonaj kwantyzację kątów gradientu.\n",
        "Kąty od $-180^\\circ$ do $180^\\circ$ można podzielić na 8 przedziałów:\n",
        "[$-22.5^\\circ, 22.5^\\circ$], [$22.5^\\circ, 67.5^\\circ$],\n",
        "[$67.5^\\circ, 112.5^\\circ$], [$112.5^\\circ, 157.5^\\circ$],\n",
        "[$157.5^\\circ, -157.5^\\circ$], [$-157.5^\\circ, -112.5^\\circ$],\n",
        "[$-112.5^\\circ, -67.5^\\circ$], [$-67.5^\\circ, -22.5^\\circ$].\n",
        "Przy czym należy rozpatrywać tylko 4 kierunki:\n",
        "    - pionowy ($d_1$),\n",
        "    - poziomy ($d_2$),\n",
        "    - skośny lewy ($d_3$),\n",
        "    - skośny prawy ($d_4$).\n",
        "5. Dalej przeprowadź eliminację pikseli, które nie mają wartości maksymalnej (ang. *nonmaximal suppresion*).\n",
        "Celem tej operacji jest redukcja szerokości krawędzi do rozmiaru 1 piksela.\n",
        "Algorytm przebiega następująco.\n",
        "W rozpatrywanym otoczeniu o rozmiarze $3 \\times 3$:\n",
        "    - określ do którego przedziału należy kierunek gradientu piksela centralnego ($d_1, d_2, d_3, d_4$).\n",
        "    - przeanalizuje sąsiadów leżących na tym kierunku.\n",
        "Jeśli choć jeden z nich ma amplitudę większą niż piksel centralny, to należy uznać, że nie jest lokalnym maksimum i do wyniku przypisać $g_N(x,y) = 0$.\n",
        "W przeciwnym przypadku $g_N(x,y) = M(x,y)$.\n",
        "Przez $g_N$ rozumiemy obraz detekcji lokalnych maksimów.\n",
        "Zaimplementuj funkcję `nonmax`.\n",
        "Pierwszym argementem jest macierz kierunków (po kwantyzacji).\n",
        "Drugim argumentem jest macierz amplitudy.\n",
        "6. Ostatnią operacją jest binaryzacja obrazu $g_N$.\n",
        "Stosuje się tutaj tzw. binaryzację z histerezą.\n",
        "Wykorzystuje się w niej dwa progi: $T_L$ i $T_H$, przy czym $T_L < T_H$.\n",
        "Canny zaproponował, aby stosunek progu wyższego do niższego był jak 3 lub 2 do 1.\n",
        "Rezultaty binaryzacji można opisać jako:<br>\n",
        "$g_{NH}(x,y) = g_N(x,y) \\geq TH $<br>\n",
        "$g_{NL}(x,y) = TH > g_N(x,y) \\geq TL $<br>\n",
        "Można powiedzieć, że na obrazie $g_{NH}$ są \"pewne\" krawędzie.\n",
        "Natomiast na $g_{NL}$ \"potencjalne\".\n",
        "7. Na jednym obrazie zaznacz piksele należące do obrazu $g_{NH}$ jako czerwone oraz należące do obrazu $g_{NL}$ jako niebieskie.\n",
        "Wyświetl obraz."
      ],
      "metadata": {
        "collapsed": false,
        "pycharm": {
          "name": "#%% md\n"
        },
        "id": "-3VcBYEwtOL3"
      }
    },
    {
      "cell_type": "code",
      "execution_count": null,
      "outputs": [],
      "source": [
        "def canny(img,th,tl):\n",
        "    X,Y = img.shape\n",
        "    img_blur=cv2.GaussianBlur(img, (5, 5), 0)\n",
        "    S1=np.array([[-1,0,1],[-2,0,2],[-1,0,1]])\n",
        "    S2=np.array([[-1,-2,-1],[0,0,0],[1,2,1]])\n",
        "    Gx=cv2.filter2D(img_blur, -1, S1)\n",
        "    Gy=cv2.filter2D(img_blur, -1, S2)\n",
        "    ampli=np.sqrt(Gx**2+Gy**2)\n",
        "    alfa=np.arctan2(Gy, Gx)\n",
        "    alfa_deg = alfa*180./np.pi\n",
        "    alfa_deg[alfa_deg < 0] += 180\n",
        "    kier=np.zeros((X,Y))\n",
        "\n",
        "    for i in range (X):\n",
        "        for j in range (Y):\n",
        "            #kąt 0\n",
        "            if (0 <= alfa_deg[i,j] < 22.5) or (157.5 <= alfa_deg[i,j] <= 180):\n",
        "                kier[i,j]=1\n",
        "            #kąt 45\n",
        "            elif (22.5 <= alfa_deg[i,j] < 67.5):\n",
        "                kier[i,j]=2\n",
        "            #kąt 90\n",
        "            elif (67.5 <= alfa_deg[i,j] < 112.5):\n",
        "                kier[i,j]=3\n",
        "            #kąt 135\n",
        "            elif (112.5 <= alfa_deg[i,j] < 157.5):\n",
        "                kier[i,j]=4\n",
        "\n",
        "    gn = nonmax(kier,ampli)\n",
        "    gnh=gn>=th\n",
        "    gnl=np.where(np.logical_and(th>gn,gn>=tl),1,0)\n",
        "    return gnh,gnl"
      ],
      "metadata": {
        "pycharm": {
          "name": "#%% Zadanie 2 - Canny\n"
        },
        "id": "o2WcHUWdtOL4"
      }
    },
    {
      "cell_type": "code",
      "source": [
        "def nonmax(kier,ampli):\n",
        "    X,Y = kier.shape\n",
        "    gn=np.zeros((X,Y))\n",
        "\n",
        "    for i in range (1,X-1):\n",
        "        for j in range (1,Y-1):\n",
        "            if(kier[i,j]==1):\n",
        "                if(ampli[i,j-1]>ampli[i,j] or ampli[i,j+1]>ampli[i,j]):\n",
        "                    gn[i,j]=0\n",
        "                else:\n",
        "                    gn[i,j]=ampli[i,j]\n",
        "            elif(kier[i,j]==2):\n",
        "                if(ampli[i+1,j-1]>ampli[i,j] or ampli[i-1,j+1]>ampli[i,j]):\n",
        "                    gn[i,j]=0\n",
        "                else:\n",
        "                    gn[i,j]=ampli[i,j]\n",
        "            elif(kier[i,j]==3):\n",
        "                if(ampli[i+1,j]>ampli[i,j] or ampli[i-1,j]>ampli[i,j]):\n",
        "                    gn[i,j]=0\n",
        "                else:\n",
        "                    gn[i,j]=ampli[i,j]\n",
        "            elif(kier[i,j]==4):\n",
        "                if(ampli[i-1,j-1]>ampli[i,j] or ampli[i+1,j+1]>ampli[i,j]):\n",
        "                    gn[i,j]=0\n",
        "                else:\n",
        "                    gn[i,j]=ampli[i,j]\n",
        "    return gn"
      ],
      "metadata": {
        "id": "oi450TXItjXM"
      },
      "execution_count": null,
      "outputs": []
    },
    {
      "cell_type": "code",
      "source": [
        "I_dom = cv2.imread('dom.png', cv2.IMREAD_GRAYSCALE)\n",
        "\n",
        "gnh,gnl = canny(I_dom,tl=5,th=10)\n",
        "\n",
        "plt.imshow(gnh, 'gray', vmin=0, vmax=1)\n",
        "plt.axis('off')\n",
        "plt.show()\n",
        "\n",
        "plt.imshow(gnl, 'gray', vmin=0, vmax=1)\n",
        "plt.axis('off')\n",
        "plt.show()"
      ],
      "metadata": {
        "id": "ycNq_Eoxtlci"
      },
      "execution_count": null,
      "outputs": []
    },
    {
      "cell_type": "code",
      "source": [
        "X,Y = gnh.shape\n",
        "obraz=np.zeros((X,Y,3))\n",
        "for i in range (0,X):\n",
        "    for j in range (0,Y):\n",
        "        if(gnh[i,j]==1):\n",
        "            obraz[i,j]=[255,0,0]\n",
        "        elif(gnl[i,j]==1):\n",
        "            obraz[i,j]=[0,0,255]\n",
        "plt.imshow(obraz)\n",
        "plt.axis('off')\n",
        "plt.show()"
      ],
      "metadata": {
        "id": "TG4X5KgRtom6"
      },
      "execution_count": null,
      "outputs": []
    },
    {
      "cell_type": "code",
      "source": [],
      "metadata": {
        "id": "xWns8bsYtpt8"
      },
      "execution_count": null,
      "outputs": []
    },
    {
      "cell_type": "markdown",
      "source": [
        "## Algorytm Canny'ego - OpenCV\n",
        "\n",
        "1. Wykonaj dektekcję krawędzi metodą Canny'ego wykorzystując funkcję `cv2.Canny`.\n",
        "    - Pierwszym argumentem funkcji jest obraz wejściowy.\n",
        "    - Drugim argumentem jest mniejszy próg.\n",
        "    - Trzecim argumentem jest większy próg.\n",
        "    - Czwarty argument to tablica, do której wpisany zostanie wynik.\n",
        "    Można zwrócić go przez wartość i podać wartość `None`.\n",
        "    - Piąty argument to rozmiar operatora Sobela (w naszym przypadku 3).\n",
        "    - Szósty argument to rodzaj używanej normy.\n",
        "    0 oznacza normę $L_1$, 1 oznacza normę $L_2$. Użyj $L_2$.\n",
        "2. Wynik wyświetl i porównaj z wykonaną częściową implementacją w poprzednim ćwiczeniu.\n",
        "Na czym polegają różnice?"
      ],
      "metadata": {
        "collapsed": false,
        "pycharm": {
          "name": "#%% md\n"
        },
        "id": "EmwTE2vHtOL4"
      }
    },
    {
      "cell_type": "code",
      "execution_count": null,
      "outputs": [],
      "source": [
        "img_can=cv2.Canny(I_dom,5,10,None,3,1)\n",
        "plt.imshow(img_can, 'gray')\n",
        "plt.axis('off')\n",
        "plt.show()"
      ],
      "metadata": {
        "pycharm": {
          "name": "#%% Zadanie 3 - Canny opencv\n"
        },
        "id": "0_Gd5cGZtOL4"
      }
    },
    {
      "cell_type": "markdown",
      "source": [],
      "metadata": {
        "id": "i0UyZFN_uVFn"
      }
    },
    {
      "cell_type": "markdown",
      "source": [
        "#***Wnioski***:\n",
        "\n",
        "W ramach ćwiczenia dotyczącego metody detekcji krawędzi Canny'ego, zaimplementowano algorytm wykorzystując bibliotekę OpenCV w języku Python. Algorytm Canny'ego jest szczególnie ceniony ze względu na swoją skuteczność w wykrywaniu krawędzi, a także minimalizację fałszywych detekcji. Jest on złożony z kilku kluczowych etapów: wygładzania obrazu filtrem Gaussa, obliczania gradientów pionowych i poziomych za pomocą operatora Sobela, kwantyzacji kątów gradientu, supresji non-maximal oraz stosowania binaryzacji z histerezą.\n",
        "\n",
        "W eksperymencie skorzystano z funkcji cv2.Canny, która przyjmuje jako argumenty obraz wejściowy, dwie wartości progowe dla binaryzacji z histerezą, rozmiar operatora Sobela, a także rodzaj normy użytej do obliczeń gradientu. W badaniach użyto normy L2.\n",
        "\n",
        "Na podstawie przeprowadzonych eksperymentów można stwierdzić, że algorytm Canny'ego zaimplementowany w OpenCV jest wysoce efektywny i daje znacznie lepsze wyniki niż proste metody detekcji krawędzi, takie jak filtr Sobela czy Prewitt. Cechuje się on wysoką dokładnością lokalizacji krawędzi oraz ich ostrością, co jest kluczowe dla dalszych etapów przetwarzania obrazów, takich jak segmentacja.\n",
        "\n",
        "W szczególności, algorytm Canny'ego jest bardziej odporny na szum niż wspomniane metody, dzięki zastosowaniu filtrowania Gaussa w początkowej fazie oraz skomplikowanej procedurze binaryzacji z histerezą, która skutecznie eliminuje słabsze i mniej znaczące krawędzie. To sprawia, że metoda ta jest bardziej preferowana w zaawansowanych aplikacjach wizji komputerowej, gdzie niezbędna jest wysoka dokładność wykrywania krawędzi.\n",
        "\n",
        "Podsumowując, porównanie implementacji algorytmu Canny'ego z prostszymi metodami podkreśla jego zaawansowanie i efektywność, czyniąc go preferowaną opcją dla aplikacji wymagających precyzyjnego wykrywania krawędzi. Osiągnięcie wysokiej dokładności oraz minimalizacja fałszywych detekcji sprawiają, że algorytm Canny'ego pozostaje jednym z fundamentów w przetwarzaniu obrazów cyfrowych."
      ],
      "metadata": {
        "id": "9xWWbmRZu2Ew"
      }
    }
  ],
  "metadata": {
    "kernelspec": {
      "display_name": "Python 3",
      "language": "python",
      "name": "python3"
    },
    "language_info": {
      "codemirror_mode": {
        "name": "ipython",
        "version": 3
      },
      "file_extension": ".py",
      "mimetype": "text/x-python",
      "name": "python",
      "nbconvert_exporter": "python",
      "pygments_lexer": "ipython3",
      "version": "3.8.3"
    },
    "colab": {
      "provenance": []
    }
  },
  "nbformat": 4,
  "nbformat_minor": 0
}